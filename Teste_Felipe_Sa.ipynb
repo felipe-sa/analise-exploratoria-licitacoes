{
 "cells": [
  {
   "cell_type": "markdown",
   "id": "625c039d",
   "metadata": {},
   "source": [
    "# Teste Técnico - Felipe Soares Sá\n",
    "\n",
    "Neste Jupyter Notebook será feita uma análise exploratória das licitações dos órgãos públicos do Rio Grade do Sul entre os anos de 2016 e 2019. "
   ]
  },
  {
   "cell_type": "code",
   "execution_count": 1,
   "id": "df7bbcee",
   "metadata": {},
   "outputs": [],
   "source": [
    "import pandas as pd\n",
    "import numpy as np\n",
    "import matplotlib.pyplot as plt\n",
    "import datetime as dt\n",
    "import seaborn as sns\n",
    "import zipfile"
   ]
  },
  {
   "cell_type": "code",
   "execution_count": 2,
   "id": "6fdd8393",
   "metadata": {},
   "outputs": [],
   "source": [
    "with zipfile.ZipFile('DADOS_2016.zip') as dados_2016:\n",
    "    with (dados_2016.open('licitacao_2016.csv') as l_2016):\n",
    "        lic_16 = pd.read_csv(l_2016, low_memory=False)\n",
    "    with (dados_2016.open('item_2016.csv') as i_2016):\n",
    "        item_16 = pd.read_csv(i_2016, low_memory=False)\n",
    "\n",
    "with zipfile.ZipFile('DADOS_2017.zip') as dados_2017:\n",
    "    with (dados_2017.open('licitacao_2017.csv') as l_2017):\n",
    "        lic_17 = pd.read_csv(l_2017, low_memory=False)\n",
    "    with (dados_2017.open('item_2017.csv') as i_2017):\n",
    "        item_17 = pd.read_csv(i_2017, low_memory=False)\n",
    "        \n",
    "with zipfile.ZipFile('DADOS_2018.zip') as dados_2018:\n",
    "    with (dados_2018.open('licitacao_2018.csv') as l_2018):\n",
    "        lic_18 = pd.read_csv(l_2018, low_memory=False)\n",
    "    with (dados_2018.open('item_2018.csv') as i_2018):\n",
    "        item_18 = pd.read_csv(i_2018, low_memory=False)\n",
    "\n",
    "with zipfile.ZipFile('DADOS_2019.zip') as dados_2019:\n",
    "    with (dados_2019.open('licitacao_2019.csv') as l_2019):\n",
    "        lic_19 = pd.read_csv(l_2019, low_memory=False)\n",
    "    with (dados_2019.open('item_2019.csv') as i_2019):\n",
    "        item_19 = pd.read_csv(i_2019, low_memory=False)\n",
    "\n",
    "df_lic = pd.concat([lic_16, lic_17, lic_18, lic_19])\n",
    "df_item = pd.concat([item_16, item_17, item_18, item_19])\n",
    "\n",
    "pd.set_option(\"display.max_columns\", None)"
   ]
  },
  {
   "cell_type": "markdown",
   "id": "e325c10e",
   "metadata": {},
   "source": [
    "## 1 - Organização dos Data Frames\n",
    "\n",
    "Nesta etapa, será feita a organizaçao dos data sets mais relevantes para a análise das licitações: **licitacao.csv** e **item.csv**."
   ]
  },
  {
   "cell_type": "markdown",
   "id": "d3c8a9e9",
   "metadata": {},
   "source": [
    "### 1.1 - licitação.csv"
   ]
  },
  {
   "cell_type": "code",
   "execution_count": 3,
   "id": "7541bfa4",
   "metadata": {},
   "outputs": [
    {
     "data": {
      "text/html": [
       "<div>\n",
       "<style scoped>\n",
       "    .dataframe tbody tr th:only-of-type {\n",
       "        vertical-align: middle;\n",
       "    }\n",
       "\n",
       "    .dataframe tbody tr th {\n",
       "        vertical-align: top;\n",
       "    }\n",
       "\n",
       "    .dataframe thead th {\n",
       "        text-align: right;\n",
       "    }\n",
       "</style>\n",
       "<table border=\"1\" class=\"dataframe\">\n",
       "  <thead>\n",
       "    <tr style=\"text-align: right;\">\n",
       "      <th></th>\n",
       "      <th>CD_ORGAO</th>\n",
       "      <th>NM_ORGAO</th>\n",
       "      <th>NR_LICITACAO</th>\n",
       "      <th>ANO_LICITACAO</th>\n",
       "      <th>CD_TIPO_MODALIDADE</th>\n",
       "      <th>NR_COMISSAO</th>\n",
       "      <th>ANO_COMISSAO</th>\n",
       "      <th>TP_COMISSAO</th>\n",
       "      <th>NR_PROCESSO</th>\n",
       "      <th>ANO_PROCESSO</th>\n",
       "      <th>TP_OBJETO</th>\n",
       "      <th>CD_TIPO_FASE_ATUAL</th>\n",
       "      <th>TP_LICITACAO</th>\n",
       "      <th>TP_NIVEL_JULGAMENTO</th>\n",
       "      <th>DT_AUTORIZACAO_ADESAO</th>\n",
       "      <th>TP_CARACTERISTICA_OBJETO</th>\n",
       "      <th>TP_NATUREZA</th>\n",
       "      <th>TP_REGIME_EXECUCAO</th>\n",
       "      <th>BL_PERMITE_SUBCONTRATACAO</th>\n",
       "      <th>TP_BENEFICIO_MICRO_EPP</th>\n",
       "      <th>TP_FORNECIMENTO</th>\n",
       "      <th>TP_ATUACAO_REGISTRO</th>\n",
       "      <th>NR_LICITACAO_ORIGINAL</th>\n",
       "      <th>ANO_LICITACAO_ORIGINAL</th>\n",
       "      <th>NR_ATA_REGISTRO_PRECO</th>\n",
       "      <th>DT_ATA_REGISTRO_PRECO</th>\n",
       "      <th>PC_TAXA_RISCO</th>\n",
       "      <th>TP_EXECUCAO</th>\n",
       "      <th>TP_DISPUTA</th>\n",
       "      <th>TP_PREQUALIFICACAO</th>\n",
       "      <th>BL_INVERSAO_FASES</th>\n",
       "      <th>TP_RESULTADO_GLOBAL</th>\n",
       "      <th>CNPJ_ORGAO_GERENCIADOR</th>\n",
       "      <th>NM_ORGAO_GERENCIADOR</th>\n",
       "      <th>DS_OBJETO</th>\n",
       "      <th>CD_TIPO_FUNDAMENTACAO</th>\n",
       "      <th>NR_ARTIGO</th>\n",
       "      <th>DS_INCISO</th>\n",
       "      <th>DS_LEI</th>\n",
       "      <th>DT_INICIO_INSCR_CRED</th>\n",
       "      <th>DT_FIM_INSCR_CRED</th>\n",
       "      <th>DT_INICIO_VIGEN_CRED</th>\n",
       "      <th>DT_FIM_VIGEN_CRED</th>\n",
       "      <th>VL_LICITACAO</th>\n",
       "      <th>BL_ORCAMENTO_SIGILOSO</th>\n",
       "      <th>BL_RECEBE_INSCRICAO_PER_VIG</th>\n",
       "      <th>BL_PERMITE_CONSORCIO</th>\n",
       "      <th>DT_ABERTURA</th>\n",
       "      <th>DT_HOMOLOGACAO</th>\n",
       "      <th>DT_ADJUDICACAO</th>\n",
       "      <th>BL_LICIT_PROPRIA_ORGAO</th>\n",
       "      <th>TP_DOCUMENTO_FORNECEDOR</th>\n",
       "      <th>NR_DOCUMENTO_FORNECEDOR</th>\n",
       "      <th>TP_DOCUMENTO_VENCEDOR</th>\n",
       "      <th>NR_DOCUMENTO_VENCEDOR</th>\n",
       "      <th>VL_HOMOLOGADO</th>\n",
       "      <th>BL_GERA_DESPESA</th>\n",
       "      <th>DS_OBSERVACAO</th>\n",
       "      <th>PC_TX_ESTIMADA</th>\n",
       "      <th>PC_TX_HOMOLOGADA</th>\n",
       "      <th>BL_COMPARTILHADA</th>\n",
       "    </tr>\n",
       "  </thead>\n",
       "  <tbody>\n",
       "    <tr>\n",
       "      <th>0</th>\n",
       "      <td>84100</td>\n",
       "      <td>PM DE ESPERANÇA DO SUL</td>\n",
       "      <td>1.0</td>\n",
       "      <td>2016</td>\n",
       "      <td>CNV</td>\n",
       "      <td>12.0</td>\n",
       "      <td>2016.0</td>\n",
       "      <td>P</td>\n",
       "      <td>001</td>\n",
       "      <td>2016.0</td>\n",
       "      <td>OUS</td>\n",
       "      <td>ADH</td>\n",
       "      <td>MPR</td>\n",
       "      <td>G</td>\n",
       "      <td>NaN</td>\n",
       "      <td>IU</td>\n",
       "      <td>N</td>\n",
       "      <td>NaN</td>\n",
       "      <td>N</td>\n",
       "      <td>N</td>\n",
       "      <td>NaN</td>\n",
       "      <td>NaN</td>\n",
       "      <td>NaN</td>\n",
       "      <td>NaN</td>\n",
       "      <td>NaN</td>\n",
       "      <td>NaN</td>\n",
       "      <td>NaN</td>\n",
       "      <td>NaN</td>\n",
       "      <td>NaN</td>\n",
       "      <td>NaN</td>\n",
       "      <td>N</td>\n",
       "      <td>A</td>\n",
       "      <td>NaN</td>\n",
       "      <td>NaN</td>\n",
       "      <td>Contratação de arbitragem dos jogos do 2º camp...</td>\n",
       "      <td>NaN</td>\n",
       "      <td>NaN</td>\n",
       "      <td>NaN</td>\n",
       "      <td>NaN</td>\n",
       "      <td>NaN</td>\n",
       "      <td>NaN</td>\n",
       "      <td>NaN</td>\n",
       "      <td>NaN</td>\n",
       "      <td>7000.0</td>\n",
       "      <td>NaN</td>\n",
       "      <td>NaN</td>\n",
       "      <td>N</td>\n",
       "      <td>2016-01-12</td>\n",
       "      <td>2016-01-19</td>\n",
       "      <td>2016-01-19</td>\n",
       "      <td>S</td>\n",
       "      <td>NaN</td>\n",
       "      <td>NaN</td>\n",
       "      <td>J</td>\n",
       "      <td>6233397000148.0</td>\n",
       "      <td>6420.0</td>\n",
       "      <td>S</td>\n",
       "      <td>NaN</td>\n",
       "      <td>NaN</td>\n",
       "      <td>NaN</td>\n",
       "      <td>N</td>\n",
       "    </tr>\n",
       "    <tr>\n",
       "      <th>1</th>\n",
       "      <td>84100</td>\n",
       "      <td>PM DE ESPERANÇA DO SUL</td>\n",
       "      <td>4.0</td>\n",
       "      <td>2016</td>\n",
       "      <td>CNV</td>\n",
       "      <td>12.0</td>\n",
       "      <td>2016.0</td>\n",
       "      <td>P</td>\n",
       "      <td>003</td>\n",
       "      <td>2016.0</td>\n",
       "      <td>COM</td>\n",
       "      <td>ADH</td>\n",
       "      <td>MPR</td>\n",
       "      <td>I</td>\n",
       "      <td>NaN</td>\n",
       "      <td>IT</td>\n",
       "      <td>N</td>\n",
       "      <td>NaN</td>\n",
       "      <td>N</td>\n",
       "      <td>N</td>\n",
       "      <td>P</td>\n",
       "      <td>NaN</td>\n",
       "      <td>NaN</td>\n",
       "      <td>NaN</td>\n",
       "      <td>NaN</td>\n",
       "      <td>NaN</td>\n",
       "      <td>NaN</td>\n",
       "      <td>NaN</td>\n",
       "      <td>NaN</td>\n",
       "      <td>NaN</td>\n",
       "      <td>N</td>\n",
       "      <td>NaN</td>\n",
       "      <td>NaN</td>\n",
       "      <td>NaN</td>\n",
       "      <td>Aquisição de merenda escolar</td>\n",
       "      <td>NaN</td>\n",
       "      <td>NaN</td>\n",
       "      <td>NaN</td>\n",
       "      <td>NaN</td>\n",
       "      <td>NaN</td>\n",
       "      <td>NaN</td>\n",
       "      <td>NaN</td>\n",
       "      <td>NaN</td>\n",
       "      <td>11216.5</td>\n",
       "      <td>NaN</td>\n",
       "      <td>NaN</td>\n",
       "      <td>N</td>\n",
       "      <td>2016-01-22</td>\n",
       "      <td>2016-01-29</td>\n",
       "      <td>2016-01-29</td>\n",
       "      <td>S</td>\n",
       "      <td>NaN</td>\n",
       "      <td>NaN</td>\n",
       "      <td>NaN</td>\n",
       "      <td>NaN</td>\n",
       "      <td>NaN</td>\n",
       "      <td>S</td>\n",
       "      <td>NaN</td>\n",
       "      <td>NaN</td>\n",
       "      <td>NaN</td>\n",
       "      <td>N</td>\n",
       "    </tr>\n",
       "    <tr>\n",
       "      <th>2</th>\n",
       "      <td>82701</td>\n",
       "      <td>CM DE XANGRI-LÁ</td>\n",
       "      <td>1.0</td>\n",
       "      <td>2016</td>\n",
       "      <td>PRP</td>\n",
       "      <td>12.0</td>\n",
       "      <td>2016.0</td>\n",
       "      <td>G</td>\n",
       "      <td>01</td>\n",
       "      <td>2016.0</td>\n",
       "      <td>COM</td>\n",
       "      <td>ADH</td>\n",
       "      <td>MPR</td>\n",
       "      <td>I</td>\n",
       "      <td>NaN</td>\n",
       "      <td>IT</td>\n",
       "      <td>N</td>\n",
       "      <td>NaN</td>\n",
       "      <td>N</td>\n",
       "      <td>N</td>\n",
       "      <td>I</td>\n",
       "      <td>NaN</td>\n",
       "      <td>NaN</td>\n",
       "      <td>NaN</td>\n",
       "      <td>NaN</td>\n",
       "      <td>NaN</td>\n",
       "      <td>NaN</td>\n",
       "      <td>NaN</td>\n",
       "      <td>NaN</td>\n",
       "      <td>NaN</td>\n",
       "      <td>N</td>\n",
       "      <td>NaN</td>\n",
       "      <td>NaN</td>\n",
       "      <td>NaN</td>\n",
       "      <td>AQUISIÇÃO DE PROTOCOLADORA E FRAGMENTADORA DE ...</td>\n",
       "      <td>NaN</td>\n",
       "      <td>NaN</td>\n",
       "      <td>NaN</td>\n",
       "      <td>NaN</td>\n",
       "      <td>NaN</td>\n",
       "      <td>NaN</td>\n",
       "      <td>NaN</td>\n",
       "      <td>NaN</td>\n",
       "      <td>NaN</td>\n",
       "      <td>S</td>\n",
       "      <td>NaN</td>\n",
       "      <td>N</td>\n",
       "      <td>2016-01-26</td>\n",
       "      <td>2016-02-01</td>\n",
       "      <td>2016-02-01</td>\n",
       "      <td>S</td>\n",
       "      <td>NaN</td>\n",
       "      <td>NaN</td>\n",
       "      <td>NaN</td>\n",
       "      <td>NaN</td>\n",
       "      <td>NaN</td>\n",
       "      <td>S</td>\n",
       "      <td>NaN</td>\n",
       "      <td>NaN</td>\n",
       "      <td>NaN</td>\n",
       "      <td>N</td>\n",
       "    </tr>\n",
       "  </tbody>\n",
       "</table>\n",
       "</div>"
      ],
      "text/plain": [
       "   CD_ORGAO                NM_ORGAO  NR_LICITACAO  ANO_LICITACAO  \\\n",
       "0     84100  PM DE ESPERANÇA DO SUL           1.0           2016   \n",
       "1     84100  PM DE ESPERANÇA DO SUL           4.0           2016   \n",
       "2     82701         CM DE XANGRI-LÁ           1.0           2016   \n",
       "\n",
       "  CD_TIPO_MODALIDADE  NR_COMISSAO  ANO_COMISSAO TP_COMISSAO NR_PROCESSO  \\\n",
       "0                CNV         12.0        2016.0           P         001   \n",
       "1                CNV         12.0        2016.0           P         003   \n",
       "2                PRP         12.0        2016.0           G          01   \n",
       "\n",
       "   ANO_PROCESSO TP_OBJETO CD_TIPO_FASE_ATUAL TP_LICITACAO TP_NIVEL_JULGAMENTO  \\\n",
       "0        2016.0       OUS                ADH          MPR                   G   \n",
       "1        2016.0       COM                ADH          MPR                   I   \n",
       "2        2016.0       COM                ADH          MPR                   I   \n",
       "\n",
       "  DT_AUTORIZACAO_ADESAO TP_CARACTERISTICA_OBJETO TP_NATUREZA  \\\n",
       "0                   NaN                       IU           N   \n",
       "1                   NaN                       IT           N   \n",
       "2                   NaN                       IT           N   \n",
       "\n",
       "  TP_REGIME_EXECUCAO BL_PERMITE_SUBCONTRATACAO TP_BENEFICIO_MICRO_EPP  \\\n",
       "0                NaN                         N                      N   \n",
       "1                NaN                         N                      N   \n",
       "2                NaN                         N                      N   \n",
       "\n",
       "  TP_FORNECIMENTO TP_ATUACAO_REGISTRO NR_LICITACAO_ORIGINAL  \\\n",
       "0             NaN                 NaN                   NaN   \n",
       "1               P                 NaN                   NaN   \n",
       "2               I                 NaN                   NaN   \n",
       "\n",
       "   ANO_LICITACAO_ORIGINAL NR_ATA_REGISTRO_PRECO DT_ATA_REGISTRO_PRECO  \\\n",
       "0                     NaN                   NaN                   NaN   \n",
       "1                     NaN                   NaN                   NaN   \n",
       "2                     NaN                   NaN                   NaN   \n",
       "\n",
       "   PC_TAXA_RISCO TP_EXECUCAO TP_DISPUTA TP_PREQUALIFICACAO BL_INVERSAO_FASES  \\\n",
       "0            NaN         NaN        NaN                NaN                 N   \n",
       "1            NaN         NaN        NaN                NaN                 N   \n",
       "2            NaN         NaN        NaN                NaN                 N   \n",
       "\n",
       "  TP_RESULTADO_GLOBAL  CNPJ_ORGAO_GERENCIADOR NM_ORGAO_GERENCIADOR  \\\n",
       "0                   A                     NaN                  NaN   \n",
       "1                 NaN                     NaN                  NaN   \n",
       "2                 NaN                     NaN                  NaN   \n",
       "\n",
       "                                           DS_OBJETO CD_TIPO_FUNDAMENTACAO  \\\n",
       "0  Contratação de arbitragem dos jogos do 2º camp...                   NaN   \n",
       "1                      Aquisição de merenda escolar                    NaN   \n",
       "2  AQUISIÇÃO DE PROTOCOLADORA E FRAGMENTADORA DE ...                   NaN   \n",
       "\n",
       "   NR_ARTIGO DS_INCISO DS_LEI DT_INICIO_INSCR_CRED DT_FIM_INSCR_CRED  \\\n",
       "0        NaN       NaN    NaN                  NaN               NaN   \n",
       "1        NaN       NaN    NaN                  NaN               NaN   \n",
       "2        NaN       NaN    NaN                  NaN               NaN   \n",
       "\n",
       "  DT_INICIO_VIGEN_CRED DT_FIM_VIGEN_CRED  VL_LICITACAO BL_ORCAMENTO_SIGILOSO  \\\n",
       "0                  NaN               NaN        7000.0                   NaN   \n",
       "1                  NaN               NaN       11216.5                   NaN   \n",
       "2                  NaN               NaN           NaN                     S   \n",
       "\n",
       "  BL_RECEBE_INSCRICAO_PER_VIG BL_PERMITE_CONSORCIO DT_ABERTURA DT_HOMOLOGACAO  \\\n",
       "0                         NaN                    N  2016-01-12     2016-01-19   \n",
       "1                         NaN                    N  2016-01-22     2016-01-29   \n",
       "2                         NaN                    N  2016-01-26     2016-02-01   \n",
       "\n",
       "  DT_ADJUDICACAO BL_LICIT_PROPRIA_ORGAO TP_DOCUMENTO_FORNECEDOR  \\\n",
       "0     2016-01-19                      S                     NaN   \n",
       "1     2016-01-29                      S                     NaN   \n",
       "2     2016-02-01                      S                     NaN   \n",
       "\n",
       "  NR_DOCUMENTO_FORNECEDOR TP_DOCUMENTO_VENCEDOR NR_DOCUMENTO_VENCEDOR  \\\n",
       "0                     NaN                     J       6233397000148.0   \n",
       "1                     NaN                   NaN                   NaN   \n",
       "2                     NaN                   NaN                   NaN   \n",
       "\n",
       "  VL_HOMOLOGADO BL_GERA_DESPESA DS_OBSERVACAO  PC_TX_ESTIMADA  \\\n",
       "0        6420.0               S           NaN             NaN   \n",
       "1           NaN               S           NaN             NaN   \n",
       "2           NaN               S           NaN             NaN   \n",
       "\n",
       "   PC_TX_HOMOLOGADA BL_COMPARTILHADA  \n",
       "0               NaN                N  \n",
       "1               NaN                N  \n",
       "2               NaN                N  "
      ]
     },
     "execution_count": 3,
     "metadata": {},
     "output_type": "execute_result"
    }
   ],
   "source": [
    "df_lic.head(3)"
   ]
  },
  {
   "cell_type": "code",
   "execution_count": 4,
   "id": "17924d38",
   "metadata": {},
   "outputs": [
    {
     "data": {
      "text/html": [
       "<div>\n",
       "<style scoped>\n",
       "    .dataframe tbody tr th:only-of-type {\n",
       "        vertical-align: middle;\n",
       "    }\n",
       "\n",
       "    .dataframe tbody tr th {\n",
       "        vertical-align: top;\n",
       "    }\n",
       "\n",
       "    .dataframe thead th {\n",
       "        text-align: right;\n",
       "    }\n",
       "</style>\n",
       "<table border=\"1\" class=\"dataframe\">\n",
       "  <thead>\n",
       "    <tr style=\"text-align: right;\">\n",
       "      <th></th>\n",
       "      <th>CD_ORGAO</th>\n",
       "      <th>NR_LICITACAO</th>\n",
       "      <th>ANO_LICITACAO</th>\n",
       "      <th>CD_TIPO_MODALIDADE</th>\n",
       "      <th>NR_LOTE</th>\n",
       "      <th>NR_ITEM</th>\n",
       "      <th>NR_ITEM_ORIGINAL</th>\n",
       "      <th>DS_ITEM</th>\n",
       "      <th>QT_ITENS</th>\n",
       "      <th>SG_UNIDADE_MEDIDA</th>\n",
       "      <th>VL_UNITARIO_ESTIMADO</th>\n",
       "      <th>VL_TOTAL_ESTIMADO</th>\n",
       "      <th>DT_REF_VALOR_ESTIMADO</th>\n",
       "      <th>PC_BDI_ESTIMADO</th>\n",
       "      <th>PC_ENCARGOS_SOCIAIS_ESTIMADO</th>\n",
       "      <th>CD_FONTE_REFERENCIA</th>\n",
       "      <th>DS_FONTE_REFERENCIA</th>\n",
       "      <th>TP_RESULTADO_ITEM</th>\n",
       "      <th>VL_UNITARIO_HOMOLOGADO</th>\n",
       "      <th>VL_TOTAL_HOMOLOGADO</th>\n",
       "      <th>PC_BDI_HOMOLOGADO</th>\n",
       "      <th>PC_ENCARGOS_SOCIAIS_HOMOLOGADO</th>\n",
       "      <th>TP_ORCAMENTO</th>\n",
       "      <th>CD_TIPO_FAMILIA</th>\n",
       "      <th>CD_TIPO_SUBFAMILIA</th>\n",
       "      <th>TP_DOCUMENTO</th>\n",
       "      <th>NR_DOCUMENTO</th>\n",
       "      <th>TP_DOCUMENTO.1</th>\n",
       "      <th>NR_DOCUMENTO.1</th>\n",
       "      <th>TP_BENEFICIO_MICRO_EPP</th>\n",
       "      <th>PC_TX_ESTIMADA</th>\n",
       "      <th>PC_TX_HOMOLOGADA</th>\n",
       "    </tr>\n",
       "  </thead>\n",
       "  <tbody>\n",
       "    <tr>\n",
       "      <th>0</th>\n",
       "      <td>77200</td>\n",
       "      <td>15.0</td>\n",
       "      <td>2016</td>\n",
       "      <td>PRP</td>\n",
       "      <td>1</td>\n",
       "      <td>2</td>\n",
       "      <td>2</td>\n",
       "      <td>Pneu 1000/20 liso radial, dianteiro, 16 lonas,...</td>\n",
       "      <td>10.0</td>\n",
       "      <td>UN</td>\n",
       "      <td>1500.0</td>\n",
       "      <td>15000.0</td>\n",
       "      <td>NaN</td>\n",
       "      <td>NaN</td>\n",
       "      <td>NaN</td>\n",
       "      <td>NaN</td>\n",
       "      <td>NaN</td>\n",
       "      <td>A</td>\n",
       "      <td>1430.0</td>\n",
       "      <td>14300.00</td>\n",
       "      <td>0.0</td>\n",
       "      <td>0.0</td>\n",
       "      <td>M</td>\n",
       "      <td>745.0</td>\n",
       "      <td>632.0</td>\n",
       "      <td>J</td>\n",
       "      <td>8774832000177.0</td>\n",
       "      <td>NaN</td>\n",
       "      <td>NaN</td>\n",
       "      <td>L</td>\n",
       "      <td>NaN</td>\n",
       "      <td>NaN</td>\n",
       "    </tr>\n",
       "    <tr>\n",
       "      <th>1</th>\n",
       "      <td>77200</td>\n",
       "      <td>15.0</td>\n",
       "      <td>2016</td>\n",
       "      <td>PRP</td>\n",
       "      <td>1</td>\n",
       "      <td>4</td>\n",
       "      <td>4</td>\n",
       "      <td>Pneu 12.4x24 garra baixa, 10 lonas</td>\n",
       "      <td>4.0</td>\n",
       "      <td>UN</td>\n",
       "      <td>1260.0</td>\n",
       "      <td>5040.0</td>\n",
       "      <td>NaN</td>\n",
       "      <td>NaN</td>\n",
       "      <td>NaN</td>\n",
       "      <td>NaN</td>\n",
       "      <td>NaN</td>\n",
       "      <td>A</td>\n",
       "      <td>1258.0</td>\n",
       "      <td>5032.00</td>\n",
       "      <td>0.0</td>\n",
       "      <td>0.0</td>\n",
       "      <td>M</td>\n",
       "      <td>745.0</td>\n",
       "      <td>632.0</td>\n",
       "      <td>J</td>\n",
       "      <td>8774832000177.0</td>\n",
       "      <td>NaN</td>\n",
       "      <td>NaN</td>\n",
       "      <td>L</td>\n",
       "      <td>NaN</td>\n",
       "      <td>NaN</td>\n",
       "    </tr>\n",
       "    <tr>\n",
       "      <th>2</th>\n",
       "      <td>77200</td>\n",
       "      <td>15.0</td>\n",
       "      <td>2016</td>\n",
       "      <td>PRP</td>\n",
       "      <td>1</td>\n",
       "      <td>7</td>\n",
       "      <td>7</td>\n",
       "      <td>Pneu 1400x24 mínimo 12 lonas</td>\n",
       "      <td>6.0</td>\n",
       "      <td>UN</td>\n",
       "      <td>2000.0</td>\n",
       "      <td>12000.0</td>\n",
       "      <td>NaN</td>\n",
       "      <td>NaN</td>\n",
       "      <td>NaN</td>\n",
       "      <td>NaN</td>\n",
       "      <td>NaN</td>\n",
       "      <td>A</td>\n",
       "      <td>1998.0</td>\n",
       "      <td>11988.00</td>\n",
       "      <td>0.0</td>\n",
       "      <td>0.0</td>\n",
       "      <td>M</td>\n",
       "      <td>745.0</td>\n",
       "      <td>632.0</td>\n",
       "      <td>J</td>\n",
       "      <td>8774832000177.0</td>\n",
       "      <td>NaN</td>\n",
       "      <td>NaN</td>\n",
       "      <td>L</td>\n",
       "      <td>NaN</td>\n",
       "      <td>NaN</td>\n",
       "    </tr>\n",
       "  </tbody>\n",
       "</table>\n",
       "</div>"
      ],
      "text/plain": [
       "   CD_ORGAO  NR_LICITACAO  ANO_LICITACAO CD_TIPO_MODALIDADE  NR_LOTE  NR_ITEM  \\\n",
       "0     77200          15.0           2016                PRP        1        2   \n",
       "1     77200          15.0           2016                PRP        1        4   \n",
       "2     77200          15.0           2016                PRP        1        7   \n",
       "\n",
       "  NR_ITEM_ORIGINAL                                            DS_ITEM  \\\n",
       "0                2  Pneu 1000/20 liso radial, dianteiro, 16 lonas,...   \n",
       "1                4                 Pneu 12.4x24 garra baixa, 10 lonas   \n",
       "2                7                       Pneu 1400x24 mínimo 12 lonas   \n",
       "\n",
       "  QT_ITENS SG_UNIDADE_MEDIDA  VL_UNITARIO_ESTIMADO  VL_TOTAL_ESTIMADO  \\\n",
       "0     10.0                UN                1500.0            15000.0   \n",
       "1      4.0                UN                1260.0             5040.0   \n",
       "2      6.0                UN                2000.0            12000.0   \n",
       "\n",
       "  DT_REF_VALOR_ESTIMADO  PC_BDI_ESTIMADO  PC_ENCARGOS_SOCIAIS_ESTIMADO  \\\n",
       "0                   NaN              NaN                           NaN   \n",
       "1                   NaN              NaN                           NaN   \n",
       "2                   NaN              NaN                           NaN   \n",
       "\n",
       "  CD_FONTE_REFERENCIA DS_FONTE_REFERENCIA TP_RESULTADO_ITEM  \\\n",
       "0                 NaN                 NaN                 A   \n",
       "1                 NaN                 NaN                 A   \n",
       "2                 NaN                 NaN                 A   \n",
       "\n",
       "   VL_UNITARIO_HOMOLOGADO VL_TOTAL_HOMOLOGADO  PC_BDI_HOMOLOGADO  \\\n",
       "0                  1430.0            14300.00                0.0   \n",
       "1                  1258.0             5032.00                0.0   \n",
       "2                  1998.0            11988.00                0.0   \n",
       "\n",
       "   PC_ENCARGOS_SOCIAIS_HOMOLOGADO TP_ORCAMENTO  CD_TIPO_FAMILIA  \\\n",
       "0                             0.0            M            745.0   \n",
       "1                             0.0            M            745.0   \n",
       "2                             0.0            M            745.0   \n",
       "\n",
       "   CD_TIPO_SUBFAMILIA TP_DOCUMENTO     NR_DOCUMENTO TP_DOCUMENTO.1  \\\n",
       "0               632.0            J  8774832000177.0            NaN   \n",
       "1               632.0            J  8774832000177.0            NaN   \n",
       "2               632.0            J  8774832000177.0            NaN   \n",
       "\n",
       "  NR_DOCUMENTO.1 TP_BENEFICIO_MICRO_EPP  PC_TX_ESTIMADA  PC_TX_HOMOLOGADA  \n",
       "0            NaN                      L             NaN               NaN  \n",
       "1            NaN                      L             NaN               NaN  \n",
       "2            NaN                      L             NaN               NaN  "
      ]
     },
     "execution_count": 4,
     "metadata": {},
     "output_type": "execute_result"
    }
   ],
   "source": [
    "df_item.head(3)"
   ]
  },
  {
   "cell_type": "markdown",
   "id": "32d3af88",
   "metadata": {},
   "source": [
    "Do data frame **df_lic**, referente aos dados das licitações, pode-se observar que as colunas mais relevantes parecem ser:\n",
    "\n",
    "- **CD_ORGAO:** Decreve o código de cada órgão que lançou algum processo de licitação.\n",
    "- **NM_ORGAO:** Nome dos órgãos públicos envolvidos com licitações.\n",
    "- **ANO_LICITACAO:** Ano das licitações.\n",
    "- **DS_OBJETO:** Descrição do objeto adquirido por meio da licitação.\n",
    "- **VL_HOMOLOGADO:** Valor homologado da licitação.\n",
    "- **DT_ABERTURA:** Data de abertura do processo de licitação.\n",
    "- **DT_HOMOLOGACAO:** Data de holomogação do processo de licitação.\n",
    "\n",
    "Adicionalmente, como o interesse está nas licitações relacionadas a *compras* de objetos (ou serviços), criou-se um filtro para o data frame onde somente as licitações referentes à compra de algum item ficarão disponíveis:"
   ]
  },
  {
   "cell_type": "code",
   "execution_count": 5,
   "id": "c219e6c2",
   "metadata": {},
   "outputs": [],
   "source": [
    "filt = (df_lic['TP_OBJETO'] == 'COM')"
   ]
  },
  {
   "cell_type": "markdown",
   "id": "0ff1b25b",
   "metadata": {},
   "source": [
    "Aplicando-se o filtro acima, foi possível criar um novo data frame somente com as licitações relacionadas à compra:"
   ]
  },
  {
   "cell_type": "code",
   "execution_count": 6,
   "id": "0fd5220a",
   "metadata": {},
   "outputs": [],
   "source": [
    "df_lic_clean = df_lic.loc[filt,['CD_ORGAO','NM_ORGAO','ANO_LICITACAO','DS_OBJETO','VL_HOMOLOGADO','DT_ABERTURA','DT_HOMOLOGACAO']].reset_index(drop=True)"
   ]
  },
  {
   "cell_type": "code",
   "execution_count": 7,
   "id": "e63d9968",
   "metadata": {},
   "outputs": [],
   "source": [
    "df_lic_clean['DT_ABERTURA'] = pd.to_datetime(df_lic_clean['DT_ABERTURA'], errors = 'coerce')\n",
    "df_lic_clean['DT_HOMOLOGACAO'] = pd.to_datetime(df_lic_clean['DT_HOMOLOGACAO'], errors = 'coerce')\n",
    "\n",
    "df_lic_clean['TP_PROCESSO'] = (df_lic_clean['DT_HOMOLOGACAO'] - df_lic_clean['DT_ABERTURA']).dt.days"
   ]
  },
  {
   "cell_type": "markdown",
   "id": "06a4bba9",
   "metadata": {},
   "source": [
    "Foi útil transformar os items das colunas **DT_ABERTURA** e **DT_HOMOLOGACAO** no formato de datetime64. Também criou-se uma coluna adicional com a diferença de dias entre a data de abetura e de holomogação das licitações. Essa coluna foi nomeada como **TP_PROCESSO**."
   ]
  },
  {
   "cell_type": "markdown",
   "id": "7d29df72",
   "metadata": {},
   "source": [
    "Obteve-se a versão organizada do primeiro data frame:"
   ]
  },
  {
   "cell_type": "code",
   "execution_count": 8,
   "id": "017494b4",
   "metadata": {},
   "outputs": [
    {
     "data": {
      "text/html": [
       "<div>\n",
       "<style scoped>\n",
       "    .dataframe tbody tr th:only-of-type {\n",
       "        vertical-align: middle;\n",
       "    }\n",
       "\n",
       "    .dataframe tbody tr th {\n",
       "        vertical-align: top;\n",
       "    }\n",
       "\n",
       "    .dataframe thead th {\n",
       "        text-align: right;\n",
       "    }\n",
       "</style>\n",
       "<table border=\"1\" class=\"dataframe\">\n",
       "  <thead>\n",
       "    <tr style=\"text-align: right;\">\n",
       "      <th></th>\n",
       "      <th>CD_ORGAO</th>\n",
       "      <th>NM_ORGAO</th>\n",
       "      <th>ANO_LICITACAO</th>\n",
       "      <th>DS_OBJETO</th>\n",
       "      <th>VL_HOMOLOGADO</th>\n",
       "      <th>DT_ABERTURA</th>\n",
       "      <th>DT_HOMOLOGACAO</th>\n",
       "      <th>TP_PROCESSO</th>\n",
       "    </tr>\n",
       "  </thead>\n",
       "  <tbody>\n",
       "    <tr>\n",
       "      <th>0</th>\n",
       "      <td>84100</td>\n",
       "      <td>PM DE ESPERANÇA DO SUL</td>\n",
       "      <td>2016</td>\n",
       "      <td>Aquisição de merenda escolar</td>\n",
       "      <td>NaN</td>\n",
       "      <td>2016-01-22</td>\n",
       "      <td>2016-01-29</td>\n",
       "      <td>7.0</td>\n",
       "    </tr>\n",
       "    <tr>\n",
       "      <th>1</th>\n",
       "      <td>82701</td>\n",
       "      <td>CM DE XANGRI-LÁ</td>\n",
       "      <td>2016</td>\n",
       "      <td>AQUISIÇÃO DE PROTOCOLADORA E FRAGMENTADORA DE ...</td>\n",
       "      <td>NaN</td>\n",
       "      <td>2016-01-26</td>\n",
       "      <td>2016-02-01</td>\n",
       "      <td>6.0</td>\n",
       "    </tr>\n",
       "    <tr>\n",
       "      <th>2</th>\n",
       "      <td>84100</td>\n",
       "      <td>PM DE ESPERANÇA DO SUL</td>\n",
       "      <td>2016</td>\n",
       "      <td>Aquisição de materiais de limpeza para as dive...</td>\n",
       "      <td>NaN</td>\n",
       "      <td>2016-02-02</td>\n",
       "      <td>2016-02-11</td>\n",
       "      <td>9.0</td>\n",
       "    </tr>\n",
       "    <tr>\n",
       "      <th>3</th>\n",
       "      <td>53100</td>\n",
       "      <td>PM DE NOVA PALMA</td>\n",
       "      <td>2016</td>\n",
       "      <td>Aquisição de tubos de concreto</td>\n",
       "      <td>NaN</td>\n",
       "      <td>2016-02-12</td>\n",
       "      <td>2016-02-15</td>\n",
       "      <td>3.0</td>\n",
       "    </tr>\n",
       "  </tbody>\n",
       "</table>\n",
       "</div>"
      ],
      "text/plain": [
       "   CD_ORGAO                NM_ORGAO  ANO_LICITACAO  \\\n",
       "0     84100  PM DE ESPERANÇA DO SUL           2016   \n",
       "1     82701         CM DE XANGRI-LÁ           2016   \n",
       "2     84100  PM DE ESPERANÇA DO SUL           2016   \n",
       "3     53100        PM DE NOVA PALMA           2016   \n",
       "\n",
       "                                           DS_OBJETO VL_HOMOLOGADO  \\\n",
       "0                      Aquisição de merenda escolar            NaN   \n",
       "1  AQUISIÇÃO DE PROTOCOLADORA E FRAGMENTADORA DE ...           NaN   \n",
       "2  Aquisição de materiais de limpeza para as dive...           NaN   \n",
       "3                     Aquisição de tubos de concreto           NaN   \n",
       "\n",
       "  DT_ABERTURA DT_HOMOLOGACAO  TP_PROCESSO  \n",
       "0  2016-01-22     2016-01-29          7.0  \n",
       "1  2016-01-26     2016-02-01          6.0  \n",
       "2  2016-02-02     2016-02-11          9.0  \n",
       "3  2016-02-12     2016-02-15          3.0  "
      ]
     },
     "execution_count": 8,
     "metadata": {},
     "output_type": "execute_result"
    }
   ],
   "source": [
    "df_lic_clean.head(4)"
   ]
  },
  {
   "cell_type": "markdown",
   "id": "c2103443",
   "metadata": {},
   "source": [
    "### 1.2 - item.csv"
   ]
  },
  {
   "cell_type": "markdown",
   "id": "1a91c2f5",
   "metadata": {},
   "source": [
    "Analogamente, do data frame **df_item**, pode-se observar que as colunas mais relevantes são:\n",
    "\n",
    "- CD_ORGAO\n",
    "- DS_ITEM\n",
    "- ANO_LICITACAO\n",
    "- VL_UNITARIO_ESTIMADO\n",
    "- VL_UNITARIO_HOMOLOGADO\n",
    "- VL_TOTAL_ESTIMADO\n",
    "- VL_TOTAL_HOMOLOGADO"
   ]
  },
  {
   "cell_type": "code",
   "execution_count": 9,
   "id": "76d6b932",
   "metadata": {},
   "outputs": [],
   "source": [
    "df_item_clean = df_item.loc[:,['CD_ORGAO','DS_ITEM', 'ANO_LICITACAO', 'VL_UNITARIO_ESTIMADO', 'VL_UNITARIO_HOMOLOGADO', 'VL_TOTAL_ESTIMADO', 'VL_TOTAL_HOMOLOGADO']].reset_index(drop=True)"
   ]
  },
  {
   "cell_type": "markdown",
   "id": "b3594d4e",
   "metadata": {},
   "source": [
    "Obteve-se o segudo data frame organizado:"
   ]
  },
  {
   "cell_type": "code",
   "execution_count": 10,
   "id": "eb414d01",
   "metadata": {},
   "outputs": [
    {
     "data": {
      "text/html": [
       "<div>\n",
       "<style scoped>\n",
       "    .dataframe tbody tr th:only-of-type {\n",
       "        vertical-align: middle;\n",
       "    }\n",
       "\n",
       "    .dataframe tbody tr th {\n",
       "        vertical-align: top;\n",
       "    }\n",
       "\n",
       "    .dataframe thead th {\n",
       "        text-align: right;\n",
       "    }\n",
       "</style>\n",
       "<table border=\"1\" class=\"dataframe\">\n",
       "  <thead>\n",
       "    <tr style=\"text-align: right;\">\n",
       "      <th></th>\n",
       "      <th>CD_ORGAO</th>\n",
       "      <th>DS_ITEM</th>\n",
       "      <th>ANO_LICITACAO</th>\n",
       "      <th>VL_UNITARIO_ESTIMADO</th>\n",
       "      <th>VL_UNITARIO_HOMOLOGADO</th>\n",
       "      <th>VL_TOTAL_ESTIMADO</th>\n",
       "      <th>VL_TOTAL_HOMOLOGADO</th>\n",
       "    </tr>\n",
       "  </thead>\n",
       "  <tbody>\n",
       "    <tr>\n",
       "      <th>0</th>\n",
       "      <td>77200</td>\n",
       "      <td>Pneu 1000/20 liso radial, dianteiro, 16 lonas,...</td>\n",
       "      <td>2016</td>\n",
       "      <td>1500.0</td>\n",
       "      <td>1430.0</td>\n",
       "      <td>15000.0</td>\n",
       "      <td>14300.00</td>\n",
       "    </tr>\n",
       "    <tr>\n",
       "      <th>1</th>\n",
       "      <td>77200</td>\n",
       "      <td>Pneu 12.4x24 garra baixa, 10 lonas</td>\n",
       "      <td>2016</td>\n",
       "      <td>1260.0</td>\n",
       "      <td>1258.0</td>\n",
       "      <td>5040.0</td>\n",
       "      <td>5032.00</td>\n",
       "    </tr>\n",
       "    <tr>\n",
       "      <th>2</th>\n",
       "      <td>77200</td>\n",
       "      <td>Pneu 1400x24 mínimo 12 lonas</td>\n",
       "      <td>2016</td>\n",
       "      <td>2000.0</td>\n",
       "      <td>1998.0</td>\n",
       "      <td>12000.0</td>\n",
       "      <td>11988.00</td>\n",
       "    </tr>\n",
       "    <tr>\n",
       "      <th>3</th>\n",
       "      <td>77200</td>\n",
       "      <td>Pneu 17.5x25 12 lonas, capacidade mínima de ca...</td>\n",
       "      <td>2016</td>\n",
       "      <td>3000.0</td>\n",
       "      <td>2978.0</td>\n",
       "      <td>12000.0</td>\n",
       "      <td>11912.00</td>\n",
       "    </tr>\n",
       "  </tbody>\n",
       "</table>\n",
       "</div>"
      ],
      "text/plain": [
       "   CD_ORGAO                                            DS_ITEM  ANO_LICITACAO  \\\n",
       "0     77200  Pneu 1000/20 liso radial, dianteiro, 16 lonas,...           2016   \n",
       "1     77200                 Pneu 12.4x24 garra baixa, 10 lonas           2016   \n",
       "2     77200                       Pneu 1400x24 mínimo 12 lonas           2016   \n",
       "3     77200  Pneu 17.5x25 12 lonas, capacidade mínima de ca...           2016   \n",
       "\n",
       "   VL_UNITARIO_ESTIMADO  VL_UNITARIO_HOMOLOGADO  VL_TOTAL_ESTIMADO  \\\n",
       "0                1500.0                  1430.0            15000.0   \n",
       "1                1260.0                  1258.0             5040.0   \n",
       "2                2000.0                  1998.0            12000.0   \n",
       "3                3000.0                  2978.0            12000.0   \n",
       "\n",
       "  VL_TOTAL_HOMOLOGADO  \n",
       "0            14300.00  \n",
       "1             5032.00  \n",
       "2            11988.00  \n",
       "3            11912.00  "
      ]
     },
     "execution_count": 10,
     "metadata": {},
     "output_type": "execute_result"
    }
   ],
   "source": [
    "df_item_clean.head(4)"
   ]
  },
  {
   "cell_type": "markdown",
   "id": "f550bb8d",
   "metadata": {},
   "source": [
    "## 2 - Análise dos gastos com licitações 2016 - 2019\n",
    "\n",
    "Inicialmente, foram analisados os aspectos gerais dos gastos com licitações dos últimos quatro anos (2016 - 2019). Primeiramente, calculou-se os gastos totais de cada ano. "
   ]
  },
  {
   "cell_type": "code",
   "execution_count": 11,
   "id": "60bfbed9",
   "metadata": {},
   "outputs": [
    {
     "data": {
      "text/html": [
       "<div>\n",
       "<style scoped>\n",
       "    .dataframe tbody tr th:only-of-type {\n",
       "        vertical-align: middle;\n",
       "    }\n",
       "\n",
       "    .dataframe tbody tr th {\n",
       "        vertical-align: top;\n",
       "    }\n",
       "\n",
       "    .dataframe thead th {\n",
       "        text-align: right;\n",
       "    }\n",
       "</style>\n",
       "<table border=\"1\" class=\"dataframe\">\n",
       "  <thead>\n",
       "    <tr style=\"text-align: right;\">\n",
       "      <th></th>\n",
       "      <th>CD_ORGAO</th>\n",
       "      <th>NM_ORGAO</th>\n",
       "      <th>ANO_LICITACAO</th>\n",
       "      <th>DS_OBJETO</th>\n",
       "      <th>VL_HOMOLOGADO</th>\n",
       "      <th>DT_ABERTURA</th>\n",
       "      <th>DT_HOMOLOGACAO</th>\n",
       "      <th>TP_PROCESSO</th>\n",
       "    </tr>\n",
       "  </thead>\n",
       "  <tbody>\n",
       "    <tr>\n",
       "      <th>42825</th>\n",
       "      <td>44500</td>\n",
       "      <td>PM DE CANOAS</td>\n",
       "      <td>2018</td>\n",
       "      <td>REGISTRO DE PREÇOS DE INSUMOS</td>\n",
       "      <td>#################</td>\n",
       "      <td>2018-08-17</td>\n",
       "      <td>2018-10-03</td>\n",
       "      <td>47.0</td>\n",
       "    </tr>\n",
       "  </tbody>\n",
       "</table>\n",
       "</div>"
      ],
      "text/plain": [
       "       CD_ORGAO      NM_ORGAO  ANO_LICITACAO                       DS_OBJETO  \\\n",
       "42825     44500  PM DE CANOAS           2018  REGISTRO DE PREÇOS DE INSUMOS    \n",
       "\n",
       "           VL_HOMOLOGADO DT_ABERTURA DT_HOMOLOGACAO  TP_PROCESSO  \n",
       "42825  #################  2018-08-17     2018-10-03         47.0  "
      ]
     },
     "execution_count": 11,
     "metadata": {},
     "output_type": "execute_result"
    }
   ],
   "source": [
    "df_lic_clean[df_lic_clean['VL_HOMOLOGADO']=='#################']"
   ]
  },
  {
   "cell_type": "code",
   "execution_count": 12,
   "id": "f6fe7842",
   "metadata": {},
   "outputs": [],
   "source": [
    "df_lic_clean.loc[42825,'VL_HOMOLOGADO'] = np.nan"
   ]
  },
  {
   "cell_type": "code",
   "execution_count": 13,
   "id": "ac6bebe0",
   "metadata": {},
   "outputs": [
    {
     "data": {
      "text/html": [
       "<div>\n",
       "<style scoped>\n",
       "    .dataframe tbody tr th:only-of-type {\n",
       "        vertical-align: middle;\n",
       "    }\n",
       "\n",
       "    .dataframe tbody tr th {\n",
       "        vertical-align: top;\n",
       "    }\n",
       "\n",
       "    .dataframe thead th {\n",
       "        text-align: right;\n",
       "    }\n",
       "</style>\n",
       "<table border=\"1\" class=\"dataframe\">\n",
       "  <thead>\n",
       "    <tr style=\"text-align: right;\">\n",
       "      <th></th>\n",
       "      <th>CD_ORGAO</th>\n",
       "      <th>NM_ORGAO</th>\n",
       "      <th>ANO_LICITACAO</th>\n",
       "      <th>DS_OBJETO</th>\n",
       "      <th>VL_HOMOLOGADO</th>\n",
       "      <th>DT_ABERTURA</th>\n",
       "      <th>DT_HOMOLOGACAO</th>\n",
       "      <th>TP_PROCESSO</th>\n",
       "    </tr>\n",
       "  </thead>\n",
       "  <tbody>\n",
       "    <tr>\n",
       "      <th>42825</th>\n",
       "      <td>44500</td>\n",
       "      <td>PM DE CANOAS</td>\n",
       "      <td>2018</td>\n",
       "      <td>REGISTRO DE PREÇOS DE INSUMOS</td>\n",
       "      <td>NaN</td>\n",
       "      <td>2018-08-17</td>\n",
       "      <td>2018-10-03</td>\n",
       "      <td>47.0</td>\n",
       "    </tr>\n",
       "  </tbody>\n",
       "</table>\n",
       "</div>"
      ],
      "text/plain": [
       "       CD_ORGAO      NM_ORGAO  ANO_LICITACAO                       DS_OBJETO  \\\n",
       "42825     44500  PM DE CANOAS           2018  REGISTRO DE PREÇOS DE INSUMOS    \n",
       "\n",
       "      VL_HOMOLOGADO DT_ABERTURA DT_HOMOLOGACAO  TP_PROCESSO  \n",
       "42825           NaN  2018-08-17     2018-10-03         47.0  "
      ]
     },
     "execution_count": 13,
     "metadata": {},
     "output_type": "execute_result"
    }
   ],
   "source": [
    "df_lic_clean.loc[[42825]]"
   ]
  },
  {
   "cell_type": "markdown",
   "id": "43cfe741",
   "metadata": {},
   "source": [
    "Acima, foi necessária uma correção pontual no data frame por conta de um item problemático na coluna **VL_HOMOLOGADO**."
   ]
  },
  {
   "cell_type": "code",
   "execution_count": 14,
   "id": "0024d9af",
   "metadata": {},
   "outputs": [
    {
     "name": "stdout",
     "output_type": "stream",
     "text": [
      "Os gastos do ano de 2016 foram de : 5.67e+09\n",
      "Os gastos do ano de 2017 foram de : 1.94e+09\n",
      "Os gastos do ano de 2018 foram de : 1.75e+09\n",
      "Os gastos do ano de 2019 foram de : 3.22e+09\n",
      "gastos dos quatro anos: 1.26e+10\n"
     ]
    }
   ],
   "source": [
    "gasto_anual = []\n",
    "gasto_total = 0\n",
    "\n",
    "for ano in range(2016,2020):\n",
    "    gasto_anual.append(df_lic_clean[df_lic_clean['ANO_LICITACAO']==ano]['VL_HOMOLOGADO'].astype('float').dropna().sum())\n",
    "    gasto_total += gasto_anual[ano-2016]\n",
    "    print(f'Os gastos do ano de {ano} foram de : {np.format_float_scientific(gasto_anual[ano-2016],2)}')\n",
    "    \n",
    "print(f'gastos dos quatro anos: {np.format_float_scientific(gasto_total,2)}')"
   ]
  },
  {
   "cell_type": "code",
   "execution_count": 15,
   "id": "efc9ed79",
   "metadata": {},
   "outputs": [
    {
     "data": {
      "image/png": "[encoded data removed]",
      "text/plain": [
       "<Figure size 432x288 with 1 Axes>"
      ]
     },
     "metadata": {},
     "output_type": "display_data"
    }
   ],
   "source": [
    "labels_anual = ['2016', '2017', '2018', '2019']\n",
    "\n",
    "#colors = sns.color_palette('pastel')[0:5]\n",
    "\n",
    "\n",
    "plt.pie(gasto_anual, labels = labels_anual, autopct='%.0f%%')\n",
    "plt.show()"
   ]
  },
  {
   "cell_type": "markdown",
   "id": "6efc87a7",
   "metadata": {},
   "source": [
    "Existe uma diferença significativa entre os gastos de 2017, 2018 e 2019 se comparado com o ano de 2016. Vale aqui resaltar que existe uma quantidade de valores nulos (**NaN**) na coluna **VL_HOMOLOGADO**."
   ]
  },
  {
   "cell_type": "code",
   "execution_count": 16,
   "id": "ab38185e",
   "metadata": {},
   "outputs": [
    {
     "name": "stdout",
     "output_type": "stream",
     "text": [
      "Quase 58.51 % dos valores homologados das licitações não foram registrados, correspondendo a 48216 licitações não registradas de um total de 82405.\n"
     ]
    }
   ],
   "source": [
    "num_NaN = df_lic_clean['VL_HOMOLOGADO'].isnull().value_counts()[1]\n",
    "\n",
    "perc_NaN = (num_NaN/len(df_lic_clean))*100\n",
    "\n",
    "print(f'Quase {str(perc_NaN)[0:2]}.{str(perc_NaN)[3:5]} % dos valores homologados das licitações não foram registrados, correspondendo a {num_NaN} licitações não registradas de um total de {len(df_lic_clean)}.')"
   ]
  },
  {
   "cell_type": "markdown",
   "id": "d28bfd27",
   "metadata": {},
   "source": [
    "Chama a atenção essa quantidade de valores nulos, o que pode significar que mais da metade dos valores das licitações não estão sendo devidamente cadastrados no sistema. Como esses não cadastros se distribuem ao longo dos quatro anos:"
   ]
  },
  {
   "cell_type": "code",
   "execution_count": 17,
   "id": "836dadac",
   "metadata": {},
   "outputs": [
    {
     "name": "stdout",
     "output_type": "stream",
     "text": [
      "Em 2016 não foram registrados 6904 licitações, correspondendo a 55.01 % dos licitações.\n",
      "Em 2017 não foram registrados 12938 licitações, correspondendo a 57.18 % dos licitações.\n",
      "Em 2018 não foram registrados 15078 licitações, correspondendo a 60.55 % dos licitações.\n",
      "Em 2019 não foram registrados 13296 licitações, correspondendo a 59.54 % dos licitações.\n"
     ]
    }
   ],
   "source": [
    "for ano in range(2016, 2020):\n",
    "    x = df_lic_clean.loc[(df_lic_clean['ANO_LICITACAO'] == ano),['VL_HOMOLOGADO']].isnull().value_counts()[1]\n",
    "    y = len(df_lic_clean.loc[(df_lic_clean['ANO_LICITACAO'] == ano),['VL_HOMOLOGADO']])\n",
    "    p = (x/y)*100\n",
    "    print(f'Em {ano} não foram registrados {x} licitações, correspondendo a {str(p)[0:2]}.{str(p)[3:5]} % dos licitações.')"
   ]
  },
  {
   "cell_type": "markdown",
   "id": "cffedcb6",
   "metadata": {},
   "source": [
    "O percentual de valores das licitações não cadastrados em cada ano não são muito diferentes. Aparentemente, esse é um problema que vem ocorrendo há algum tempo."
   ]
  },
  {
   "cell_type": "markdown",
   "id": "20dd5ce3",
   "metadata": {},
   "source": [
    "Também é interessante análisar os gastos mês a mês ao longo dos quatro anos. Dessa forma, será possível ter uma melhor precisão a respeito da variação de gastos a cada mês e também comparar meses de diferentes anos."
   ]
  },
  {
   "cell_type": "code",
   "execution_count": 18,
   "id": "93d2854a",
   "metadata": {},
   "outputs": [],
   "source": [
    "gastos_mensais = {}\n",
    "\n",
    "for ano in range(2016,2020):\n",
    "    gastos_mensais[str(ano)] = []\n",
    "    for mes in range(1,13):\n",
    "        if mes == 1 or mes == 3 or mes == 5 or mes == 7 or mes == 8:\n",
    "            x = df_lic_clean.loc[(df_lic_clean['DT_HOMOLOGACAO'] > np.datetime64(f'{ano}-0{mes}-01')) & (df_lic_clean['DT_HOMOLOGACAO'] < np.datetime64(f'{ano}-0{mes}-31'))]['VL_HOMOLOGADO'].astype('float').dropna().sum()\n",
    "            gastos_mensais[str(ano)].append(x)\n",
    "        elif mes == 10 or mes == 12:\n",
    "            x = df_lic_clean.loc[(df_lic_clean['DT_HOMOLOGACAO'] > np.datetime64(f'{ano}-{mes}-01')) & (df_lic_clean['DT_HOMOLOGACAO'] < np.datetime64(f'{ano}-{mes}-31'))]['VL_HOMOLOGADO'].astype('float').dropna().sum()\n",
    "            gastos_mensais[str(ano)].append(x)\n",
    "        elif mes == 11:\n",
    "            x = df_lic_clean.loc[(df_lic_clean['DT_HOMOLOGACAO'] > np.datetime64(f'{ano}-{mes}-01')) & (df_lic_clean['DT_HOMOLOGACAO'] < np.datetime64(f'{ano}-{mes}-30'))]['VL_HOMOLOGADO'].astype('float').dropna().sum()\n",
    "            gastos_mensais[str(ano)].append(x)\n",
    "        elif mes == 2:\n",
    "            if ano == 2016:\n",
    "                x = df_lic_clean.loc[(df_lic_clean['DT_HOMOLOGACAO'] > np.datetime64(f'{ano}-0{mes}-01')) & (df_lic_clean['DT_HOMOLOGACAO'] < np.datetime64(f'{ano}-0{mes}-29'))]['VL_HOMOLOGADO'].astype('float').dropna().sum()\n",
    "                gastos_mensais[str(ano)].append(x)\n",
    "            else:\n",
    "                x = df_lic_clean.loc[(df_lic_clean['DT_HOMOLOGACAO'] > np.datetime64(f'{ano}-0{mes}-01')) & (df_lic_clean['DT_HOMOLOGACAO'] < np.datetime64(f'{ano}-0{mes}-28'))]['VL_HOMOLOGADO'].astype('float').dropna().sum()\n",
    "                gastos_mensais[str(ano)].append(x)\n",
    "        else:\n",
    "            x = df_lic_clean.loc[(df_lic_clean['DT_HOMOLOGACAO'] > np.datetime64(f'{ano}-0{mes}-01')) & (df_lic_clean['DT_HOMOLOGACAO'] < np.datetime64(f'{ano}-0{mes}-30'))]['VL_HOMOLOGADO'].astype('float').dropna().sum()\n",
    "            gastos_mensais[str(ano)].append(x)"
   ]
  },
  {
   "cell_type": "code",
   "execution_count": 19,
   "id": "ada9fb8e",
   "metadata": {},
   "outputs": [],
   "source": [
    "gastos_mensais = pd.DataFrame.from_dict(gastos_mensais)"
   ]
  },
  {
   "cell_type": "code",
   "execution_count": 20,
   "id": "a6b73587",
   "metadata": {},
   "outputs": [
    {
     "data": {
      "text/html": [
       "<div>\n",
       "<style scoped>\n",
       "    .dataframe tbody tr th:only-of-type {\n",
       "        vertical-align: middle;\n",
       "    }\n",
       "\n",
       "    .dataframe tbody tr th {\n",
       "        vertical-align: top;\n",
       "    }\n",
       "\n",
       "    .dataframe thead th {\n",
       "        text-align: right;\n",
       "    }\n",
       "</style>\n",
       "<table border=\"1\" class=\"dataframe\">\n",
       "  <thead>\n",
       "    <tr style=\"text-align: right;\">\n",
       "      <th></th>\n",
       "      <th>2016</th>\n",
       "      <th>2017</th>\n",
       "      <th>2018</th>\n",
       "      <th>2019</th>\n",
       "    </tr>\n",
       "  </thead>\n",
       "  <tbody>\n",
       "    <tr>\n",
       "      <th>0</th>\n",
       "      <td>1.858581e+06</td>\n",
       "      <td>7.542436e+07</td>\n",
       "      <td>9.516741e+07</td>\n",
       "      <td>1.350173e+08</td>\n",
       "    </tr>\n",
       "    <tr>\n",
       "      <th>1</th>\n",
       "      <td>1.424892e+06</td>\n",
       "      <td>6.565115e+07</td>\n",
       "      <td>8.081317e+07</td>\n",
       "      <td>1.361700e+08</td>\n",
       "    </tr>\n",
       "    <tr>\n",
       "      <th>2</th>\n",
       "      <td>1.058717e+07</td>\n",
       "      <td>3.633436e+08</td>\n",
       "      <td>2.492178e+08</td>\n",
       "      <td>1.510093e+08</td>\n",
       "    </tr>\n",
       "    <tr>\n",
       "      <th>3</th>\n",
       "      <td>4.800707e+06</td>\n",
       "      <td>7.589896e+07</td>\n",
       "      <td>1.718367e+08</td>\n",
       "      <td>1.838950e+09</td>\n",
       "    </tr>\n",
       "    <tr>\n",
       "      <th>4</th>\n",
       "      <td>8.739372e+07</td>\n",
       "      <td>1.199591e+08</td>\n",
       "      <td>1.402331e+08</td>\n",
       "      <td>1.823274e+08</td>\n",
       "    </tr>\n",
       "    <tr>\n",
       "      <th>5</th>\n",
       "      <td>6.142372e+07</td>\n",
       "      <td>1.423300e+08</td>\n",
       "      <td>1.161968e+08</td>\n",
       "      <td>1.795061e+08</td>\n",
       "    </tr>\n",
       "    <tr>\n",
       "      <th>6</th>\n",
       "      <td>4.773746e+09</td>\n",
       "      <td>2.071959e+08</td>\n",
       "      <td>2.040401e+08</td>\n",
       "      <td>1.530371e+08</td>\n",
       "    </tr>\n",
       "    <tr>\n",
       "      <th>7</th>\n",
       "      <td>2.710201e+08</td>\n",
       "      <td>1.005984e+08</td>\n",
       "      <td>1.206055e+08</td>\n",
       "      <td>2.879248e+08</td>\n",
       "    </tr>\n",
       "    <tr>\n",
       "      <th>8</th>\n",
       "      <td>5.295462e+07</td>\n",
       "      <td>2.091878e+08</td>\n",
       "      <td>1.177313e+08</td>\n",
       "      <td>1.094433e+08</td>\n",
       "    </tr>\n",
       "    <tr>\n",
       "      <th>9</th>\n",
       "      <td>6.474507e+07</td>\n",
       "      <td>1.152178e+08</td>\n",
       "      <td>8.412029e+07</td>\n",
       "      <td>1.036661e+08</td>\n",
       "    </tr>\n",
       "    <tr>\n",
       "      <th>10</th>\n",
       "      <td>5.742346e+07</td>\n",
       "      <td>1.291241e+08</td>\n",
       "      <td>1.344849e+08</td>\n",
       "      <td>1.088884e+08</td>\n",
       "    </tr>\n",
       "    <tr>\n",
       "      <th>11</th>\n",
       "      <td>7.249319e+07</td>\n",
       "      <td>1.286175e+08</td>\n",
       "      <td>1.461143e+08</td>\n",
       "      <td>3.943092e+06</td>\n",
       "    </tr>\n",
       "  </tbody>\n",
       "</table>\n",
       "</div>"
      ],
      "text/plain": [
       "            2016          2017          2018          2019\n",
       "0   1.858581e+06  7.542436e+07  9.516741e+07  1.350173e+08\n",
       "1   1.424892e+06  6.565115e+07  8.081317e+07  1.361700e+08\n",
       "2   1.058717e+07  3.633436e+08  2.492178e+08  1.510093e+08\n",
       "3   4.800707e+06  7.589896e+07  1.718367e+08  1.838950e+09\n",
       "4   8.739372e+07  1.199591e+08  1.402331e+08  1.823274e+08\n",
       "5   6.142372e+07  1.423300e+08  1.161968e+08  1.795061e+08\n",
       "6   4.773746e+09  2.071959e+08  2.040401e+08  1.530371e+08\n",
       "7   2.710201e+08  1.005984e+08  1.206055e+08  2.879248e+08\n",
       "8   5.295462e+07  2.091878e+08  1.177313e+08  1.094433e+08\n",
       "9   6.474507e+07  1.152178e+08  8.412029e+07  1.036661e+08\n",
       "10  5.742346e+07  1.291241e+08  1.344849e+08  1.088884e+08\n",
       "11  7.249319e+07  1.286175e+08  1.461143e+08  3.943092e+06"
      ]
     },
     "execution_count": 20,
     "metadata": {},
     "output_type": "execute_result"
    }
   ],
   "source": [
    "gastos_mensais"
   ]
  },
  {
   "cell_type": "code",
   "execution_count": 21,
   "id": "123f360b",
   "metadata": {},
   "outputs": [
    {
     "data": {
      "image/png": "[encoded data removed]",
      "text/plain": [
       "<Figure size 432x288 with 1 Axes>"
      ]
     },
     "metadata": {
      "needs_background": "light"
     },
     "output_type": "display_data"
    }
   ],
   "source": [
    "sns.lineplot(data=gastos_mensais)\n",
    "plt.show()"
   ]
  },
  {
   "cell_type": "code",
   "execution_count": 22,
   "id": "6bbbf144",
   "metadata": {},
   "outputs": [
    {
     "data": {
      "text/plain": [
       "2016    4.549893e+08\n",
       "2017    1.443791e+08\n",
       "2018    1.383801e+08\n",
       "2019    2.824903e+08\n",
       "dtype: float64"
      ]
     },
     "execution_count": 22,
     "metadata": {},
     "output_type": "execute_result"
    }
   ],
   "source": [
    "gastos_mensais.mean()"
   ]
  },
  {
   "cell_type": "markdown",
   "id": "64aa2a32",
   "metadata": {},
   "source": [
    "Os gastos mensais com licitações parecem ficar em torno dos 140 milhões de reais mensais, exceto no período de jul/2016 e abril/2019. Seria interessante investigar mais a fundo o porquê dos gastos serem expressivamente maiores nesses períodos. "
   ]
  },
  {
   "cell_type": "markdown",
   "id": "0235197c",
   "metadata": {},
   "source": [
    "Também vale a pena investigar rapidamente o tempo entre a abetura e a homologação da licitação."
   ]
  },
  {
   "cell_type": "code",
   "execution_count": 23,
   "id": "fde75b62",
   "metadata": {},
   "outputs": [
    {
     "data": {
      "text/plain": [
       "count    60396.000000\n",
       "mean        11.852109\n",
       "std         23.947555\n",
       "min        -29.000000\n",
       "25%          1.000000\n",
       "50%          5.000000\n",
       "75%         13.000000\n",
       "max        778.000000\n",
       "Name: TP_PROCESSO, dtype: float64"
      ]
     },
     "execution_count": 23,
     "metadata": {},
     "output_type": "execute_result"
    }
   ],
   "source": [
    "df_lic_clean['TP_PROCESSO'].dropna().describe()"
   ]
  },
  {
   "cell_type": "code",
   "execution_count": 24,
   "id": "02f44786",
   "metadata": {},
   "outputs": [
    {
     "data": {
      "text/plain": [
       "<AxesSubplot:>"
      ]
     },
     "execution_count": 24,
     "metadata": {},
     "output_type": "execute_result"
    },
    {
     "data": {
      "image/png": "[encoded data removed]",
      "text/plain": [
       "<Figure size 432x288 with 1 Axes>"
      ]
     },
     "metadata": {
      "needs_background": "light"
     },
     "output_type": "display_data"
    }
   ],
   "source": [
    "df_lic_clean.boxplot('TP_PROCESSO')"
   ]
  },
  {
   "cell_type": "markdown",
   "id": "421afae8",
   "metadata": {},
   "source": [
    "Pelo boxplot acima, foi possível observar que existe uma quantidade significativa de outliers, o que explica o alto desvio padrão do conjunto de dados. Evidentemente, sem fazer condiderações estatísticas extramamente rigorosas, é possível recalcular o tempo médio entre a abetura e a homologação das licitações."
   ]
  },
  {
   "cell_type": "code",
   "execution_count": 25,
   "id": "139e2633",
   "metadata": {},
   "outputs": [
    {
     "data": {
      "text/plain": [
       "count    41514.000000\n",
       "mean         9.325505\n",
       "std          7.894623\n",
       "min          1.000000\n",
       "25%          3.000000\n",
       "50%          7.000000\n",
       "75%         13.000000\n",
       "max         34.000000\n",
       "Name: TP_PROCESSO, dtype: float64"
      ]
     },
     "execution_count": 25,
     "metadata": {},
     "output_type": "execute_result"
    }
   ],
   "source": [
    "df_lic_clean[(df_lic_clean['TP_PROCESSO'] < 35) & (df_lic_clean['TP_PROCESSO'] > 0)]['TP_PROCESSO'].dropna().describe()"
   ]
  },
  {
   "cell_type": "markdown",
   "id": "20ce0f18",
   "metadata": {},
   "source": [
    "Eliminando os outliers e os tempos negativos, obteve-se um desvio padrão mais aceitável e um tempo médio para o processo de licitação de praticamente 9 dias. Contudo, com o desvio padrão é de quase 8 dias. Dessa forma, é seguro dizer que o processo de licitação pode levar de 2 a 16 dias para ser homologado."
   ]
  },
  {
   "cell_type": "markdown",
   "id": "04e8ed59",
   "metadata": {},
   "source": [
    "## 3 - Análise dos orgãos governamentais"
   ]
  },
  {
   "cell_type": "markdown",
   "id": "c7f10b0a",
   "metadata": {},
   "source": [
    "Nessa seção, será analisado com mais detalhes o perfil dos órgãos governamentais que realizaram as licitações."
   ]
  },
  {
   "cell_type": "code",
   "execution_count": 26,
   "id": "39a7f387",
   "metadata": {},
   "outputs": [
    {
     "data": {
      "text/plain": [
       "PM DE GUAPORÉ                              2.185547\n",
       "CENTRAL DE LICITAÇÕES DO ESTADO            1.518112\n",
       "PM DE PELOTAS                              1.368849\n",
       "PM DE PEDRAS ALTAS                         1.333657\n",
       "SECRETARIA DA SAÚDE DO RS                  1.293611\n",
       "CIA. RIOGRANDENSE DE SANEAMENTO            1.103088\n",
       "FUND. DE SAÚDE PÚBLICA DE NOVO HAMBURGO    0.979310\n",
       "PM DE ERECHIM                              0.955039\n",
       "PM DE IJUÍ                                 0.946545\n",
       "PM DE CACHOEIRA DO SUL                     0.935623\n",
       "Name: NM_ORGAO, dtype: float64"
      ]
     },
     "execution_count": 26,
     "metadata": {},
     "output_type": "execute_result"
    }
   ],
   "source": [
    "(df_lic_clean['NM_ORGAO'].value_counts(normalize=True)*100).head(10)"
   ]
  },
  {
   "cell_type": "markdown",
   "id": "2e70c431",
   "metadata": {},
   "source": [
    "Numa primeira análise, verificou-se que seis PMs (Polícia Militar) aparecem entre os 10 órgãos que mais solicitaram licitações. Parece interessante verificar o número de órgão que correspondem a PMs. Verificamos também que CMs (Câmaras Municipais) correspondem a uma fatia significativa do número total de órgãos."
   ]
  },
  {
   "cell_type": "code",
   "execution_count": 27,
   "id": "0713d98e",
   "metadata": {},
   "outputs": [],
   "source": [
    "orgaos = df_lic_clean.drop_duplicates(['CD_ORGAO'])[['CD_ORGAO','NM_ORGAO']].reset_index(drop=True)"
   ]
  },
  {
   "cell_type": "markdown",
   "id": "1470b6ef",
   "metadata": {},
   "source": [
    "No data frame **orgaos** estão listados o código e o nome de cada órgão que se envolveu em alguma licitação entre 2016 e 2019."
   ]
  },
  {
   "cell_type": "code",
   "execution_count": 28,
   "id": "8916427a",
   "metadata": {},
   "outputs": [
    {
     "name": "stdout",
     "output_type": "stream",
     "text": [
      "Dos 843 órgãos registrados, 488 correspondem a PMs e 226 CMs. Juntos PM e CM correspondem a 84.69750889679716 % do total de órgãos.\n"
     ]
    }
   ],
   "source": [
    "numero_PM = 0\n",
    "numero_CM = 0\n",
    "\n",
    "for pm in range(len(orgaos)):\n",
    "    if (orgaos.loc[pm,['NM_ORGAO']].values)[0][0:2] == 'PM':\n",
    "        numero_PM += 1\n",
    "    elif (orgaos.loc[pm,['NM_ORGAO']].values)[0][0:2] == 'CM':\n",
    "        numero_CM += 1\n",
    "       \n",
    "print(f'Dos {len(orgaos)} órgãos registrados, {numero_PM} correspondem a PMs e {numero_CM} CMs. Juntos PM e CM correspondem a {((numero_PM + numero_CM) / len(orgaos))*100} % do total de órgãos.')     "
   ]
  },
  {
   "cell_type": "code",
   "execution_count": 29,
   "id": "c0514a64",
   "metadata": {},
   "outputs": [
    {
     "data": {
      "image/png": "[encoded data removed]",
      "text/plain": [
       "<Figure size 432x288 with 1 Axes>"
      ]
     },
     "metadata": {},
     "output_type": "display_data"
    }
   ],
   "source": [
    "outros = len(orgaos) - (numero_PM + numero_CM)\n",
    "\n",
    "main_orgaos = [numero_PM, numero_CM, outros]\n",
    "labels = ['PMs', 'CMs', 'Outros']\n",
    "\n",
    "#colors = sns.color_palette('pastel')[0:5]\n",
    "\n",
    "\n",
    "plt.pie(main_orgaos, labels = labels, autopct='%.0f%%')\n",
    "plt.show()"
   ]
  },
  {
   "cell_type": "markdown",
   "id": "c7bc80f8",
   "metadata": {},
   "source": [
    "Embora PMs e CMs constituam quase 85% dos órgãos que fizeram licitações entre 2016-2019, será que eles foram os que mais gastaram? "
   ]
  },
  {
   "cell_type": "code",
   "execution_count": 30,
   "id": "98119936",
   "metadata": {},
   "outputs": [
    {
     "name": "stdout",
     "output_type": "stream",
     "text": [
      "1.197e+10\n",
      "1.888e+07\n",
      "5.863e+08\n"
     ]
    }
   ],
   "source": [
    "no_nan = df_lic_clean.dropna(subset=['VL_HOMOLOGADO']).reset_index(drop=True)\n",
    "\n",
    "gasto_PM = 0\n",
    "gasto_CM = 0\n",
    "gasto_outros = 0\n",
    "\n",
    "for gasto in range(len(no_nan)):\n",
    "    if no_nan['NM_ORGAO'][gasto][:2] == 'PM':\n",
    "        gasto_PM += float(no_nan['VL_HOMOLOGADO'][gasto])\n",
    "    elif no_nan['NM_ORGAO'][gasto][:2] == 'CM':\n",
    "        gasto_CM += float(no_nan['VL_HOMOLOGADO'][gasto])\n",
    "    else:\n",
    "        gasto_outros += float(no_nan['VL_HOMOLOGADO'][gasto])\n",
    "\n",
    "print(np.format_float_scientific(gasto_PM, precision = 3, exp_digits=2))\n",
    "print(np.format_float_scientific(gasto_CM, precision = 3, exp_digits=2))\n",
    "print(np.format_float_scientific(gasto_outros, precision = 3, exp_digits=2))"
   ]
  },
  {
   "cell_type": "code",
   "execution_count": 31,
   "id": "d6844c67",
   "metadata": {},
   "outputs": [
    {
     "data": {
      "image/png": "[encoded data removed]",
      "text/plain": [
       "<Figure size 432x288 with 1 Axes>"
      ]
     },
     "metadata": {},
     "output_type": "display_data"
    }
   ],
   "source": [
    "labels = ['PMs', 'CMs', 'Outros']\n",
    "\n",
    "plt.pie([gasto_PM, gasto_CM, gasto_outros], labels = labels, autopct='%.0f%%')\n",
    "plt.show()"
   ]
  },
  {
   "cell_type": "markdown",
   "id": "6cae93a8",
   "metadata": {},
   "source": [
    "Surpreendentemente, 95 % dos gastos com licitações pertemcem a PMs. Evidentemente uma participação alta nos gastos totais era esperada, contudo, esse valor parece estranho. Mais ainda, os gastos das CMs praticamente não aparecem no gráfico. Detectou-se também que os gastos das CMs é 1000 vezes menor dos que os das PMs."
   ]
  },
  {
   "cell_type": "code",
   "execution_count": 32,
   "id": "1305f679",
   "metadata": {},
   "outputs": [],
   "source": [
    "df_CM = df_lic_clean[df_lic_clean['NM_ORGAO'].str.match('CM') == True].reset_index(drop=True)"
   ]
  },
  {
   "cell_type": "code",
   "execution_count": 33,
   "id": "d8b71129",
   "metadata": {},
   "outputs": [
    {
     "name": "stdout",
     "output_type": "stream",
     "text": [
      "Não constam 1837 licitações na base de dados, enquanto que 505 aparecem, ou seja, aproximadamente 78.43723313407344 das licitações feitas por CMs não foram cadastradas.\n"
     ]
    }
   ],
   "source": [
    "null_true = df_CM['VL_HOMOLOGADO'].isnull().value_counts()[1]\n",
    "null_false = df_CM['VL_HOMOLOGADO'].isnull().value_counts()[0]\n",
    "\n",
    "print(f'Não constam {null_true} licitações na base de dados, enquanto que {null_false} aparecem, ou seja, aproximadamente {(null_true/len(df_CM))*100} das licitações feitas por CMs não foram cadastradas.')"
   ]
  },
  {
   "cell_type": "markdown",
   "id": "006c2bb9",
   "metadata": {},
   "source": [
    "## 4 - Análise dos items licitados"
   ]
  },
  {
   "cell_type": "markdown",
   "id": "bb1bd6a6",
   "metadata": {},
   "source": [
    "Nessa última seção,o foco será nos itens que foram licitados entre 2016-2019."
   ]
  },
  {
   "cell_type": "code",
   "execution_count": 34,
   "id": "d2412749",
   "metadata": {},
   "outputs": [
    {
     "name": "stdout",
     "output_type": "stream",
     "text": [
      "Foram registradas as compras de 1854068 itens diferentes nas licitações.\n"
     ]
    }
   ],
   "source": [
    "num_itens = len(df_item_clean.drop_duplicates(['DS_ITEM']))\n",
    "\n",
    "print(f'Foram registradas as compras de {num_itens} itens diferentes nas licitações.')"
   ]
  },
  {
   "cell_type": "markdown",
   "id": "92a4caa7",
   "metadata": {},
   "source": [
    "Dada a variedade de itens cadastrados, uma vez que não existe uma padronização para esse cadastro, possívelmente existem itens iguais que foram cadastrados com nomes diferentes. Uma ideia aqui seria então análisar os itens comprados por tipos de órgãos. Como PMs e CMs somam quase 85 % de todas as licitações, vale a pena investigar os itens comprados por esses dois tipos de órgãos. Iniciando pelas CMs:"
   ]
  },
  {
   "cell_type": "code",
   "execution_count": 35,
   "id": "d0c40528",
   "metadata": {},
   "outputs": [
    {
     "name": "stdout",
     "output_type": "stream",
     "text": [
      "226\n"
     ]
    }
   ],
   "source": [
    "codigos_CM = []\n",
    "\n",
    "for cod in range(len(orgaos)):\n",
    "    if orgaos.loc[cod,['NM_ORGAO']].str.match('CM').item() == True:\n",
    "        codigos_CM.append(orgaos.loc[cod,['CD_ORGAO']].item())\n",
    "        \n",
    "print(len(codigos_CM))"
   ]
  },
  {
   "cell_type": "code",
   "execution_count": 36,
   "id": "9a50586e",
   "metadata": {},
   "outputs": [],
   "source": [
    "df_item_CM = pd.DataFrame(columns=df_item_clean.columns)\n",
    "\n",
    "for item in range(len(codigos_CM)):\n",
    "    df_item_CM = pd.concat([df_item_CM, df_item_clean[df_item_clean['CD_ORGAO'] == codigos_CM[item]]])\n",
    "    \n",
    "df_item_CM.reset_index(drop=True, inplace=True)"
   ]
  },
  {
   "cell_type": "code",
   "execution_count": 37,
   "id": "d10aeef7",
   "metadata": {},
   "outputs": [
    {
     "data": {
      "text/html": [
       "<div>\n",
       "<style scoped>\n",
       "    .dataframe tbody tr th:only-of-type {\n",
       "        vertical-align: middle;\n",
       "    }\n",
       "\n",
       "    .dataframe tbody tr th {\n",
       "        vertical-align: top;\n",
       "    }\n",
       "\n",
       "    .dataframe thead th {\n",
       "        text-align: right;\n",
       "    }\n",
       "</style>\n",
       "<table border=\"1\" class=\"dataframe\">\n",
       "  <thead>\n",
       "    <tr style=\"text-align: right;\">\n",
       "      <th></th>\n",
       "      <th>CD_ORGAO</th>\n",
       "      <th>DS_ITEM</th>\n",
       "      <th>ANO_LICITACAO</th>\n",
       "      <th>VL_UNITARIO_ESTIMADO</th>\n",
       "      <th>VL_UNITARIO_HOMOLOGADO</th>\n",
       "      <th>VL_TOTAL_ESTIMADO</th>\n",
       "      <th>VL_TOTAL_HOMOLOGADO</th>\n",
       "    </tr>\n",
       "  </thead>\n",
       "  <tbody>\n",
       "    <tr>\n",
       "      <th>0</th>\n",
       "      <td>82701</td>\n",
       "      <td>CONTRATAÇÃO DE EMPRESA DE LIMPEZA, HIGIENIZAÇÃ...</td>\n",
       "      <td>2016</td>\n",
       "      <td>10909.04</td>\n",
       "      <td>7999.97</td>\n",
       "      <td>10909.04</td>\n",
       "      <td>7999.97</td>\n",
       "    </tr>\n",
       "    <tr>\n",
       "      <th>1</th>\n",
       "      <td>82701</td>\n",
       "      <td>AQUISIÇÃO DE PROTOCOLADORA</td>\n",
       "      <td>2016</td>\n",
       "      <td>1792.00</td>\n",
       "      <td>1792.00</td>\n",
       "      <td>1792.00</td>\n",
       "      <td>1792.00</td>\n",
       "    </tr>\n",
       "    <tr>\n",
       "      <th>2</th>\n",
       "      <td>82701</td>\n",
       "      <td>CONTRATAÇÃO DE EMPRESA RADIOFÔNICA</td>\n",
       "      <td>2016</td>\n",
       "      <td>8293.33</td>\n",
       "      <td>8290.00</td>\n",
       "      <td>8293.33</td>\n",
       "      <td>8290.00</td>\n",
       "    </tr>\n",
       "    <tr>\n",
       "      <th>3</th>\n",
       "      <td>82701</td>\n",
       "      <td>CONTRATAÇÃO DE EMPRESA DE LIMPEZA, HIGEINIZAÇÃ...</td>\n",
       "      <td>2016</td>\n",
       "      <td>10715.29</td>\n",
       "      <td>NaN</td>\n",
       "      <td>10715.29</td>\n",
       "      <td>NaN</td>\n",
       "    </tr>\n",
       "    <tr>\n",
       "      <th>4</th>\n",
       "      <td>82701</td>\n",
       "      <td>CONTRATAÇÃO DE EMPRESA PARA LIMPEZA DA CAIXA D...</td>\n",
       "      <td>2016</td>\n",
       "      <td>200.00</td>\n",
       "      <td>NaN</td>\n",
       "      <td>200.00</td>\n",
       "      <td>NaN</td>\n",
       "    </tr>\n",
       "    <tr>\n",
       "      <th>...</th>\n",
       "      <td>...</td>\n",
       "      <td>...</td>\n",
       "      <td>...</td>\n",
       "      <td>...</td>\n",
       "      <td>...</td>\n",
       "      <td>...</td>\n",
       "      <td>...</td>\n",
       "    </tr>\n",
       "    <tr>\n",
       "      <th>32039</th>\n",
       "      <td>84501</td>\n",
       "      <td>Carregador de Baterias com 8 baterias  - Multi...</td>\n",
       "      <td>2019</td>\n",
       "      <td>119.00</td>\n",
       "      <td>NaN</td>\n",
       "      <td>119.00</td>\n",
       "      <td>NaN</td>\n",
       "    </tr>\n",
       "    <tr>\n",
       "      <th>32040</th>\n",
       "      <td>84501</td>\n",
       "      <td>Multifuncional Eco Tank L3 150 - Epson</td>\n",
       "      <td>2019</td>\n",
       "      <td>1250.00</td>\n",
       "      <td>NaN</td>\n",
       "      <td>1250.00</td>\n",
       "      <td>NaN</td>\n",
       "    </tr>\n",
       "    <tr>\n",
       "      <th>32041</th>\n",
       "      <td>84501</td>\n",
       "      <td>Roteador Wireless Semi Profissional - TP LINK</td>\n",
       "      <td>2019</td>\n",
       "      <td>299.00</td>\n",
       "      <td>NaN</td>\n",
       "      <td>299.00</td>\n",
       "      <td>NaN</td>\n",
       "    </tr>\n",
       "    <tr>\n",
       "      <th>32042</th>\n",
       "      <td>84501</td>\n",
       "      <td>Notebook Acer AMD A 10 2,4 Ghz, 4 GB RAM 1TB H...</td>\n",
       "      <td>2019</td>\n",
       "      <td>2490.00</td>\n",
       "      <td>NaN</td>\n",
       "      <td>4980.00</td>\n",
       "      <td>NaN</td>\n",
       "    </tr>\n",
       "    <tr>\n",
       "      <th>32043</th>\n",
       "      <td>84501</td>\n",
       "      <td>Notebook Acer AMD A 12 2,7 Ghz, 8 GB RAM 1TB H...</td>\n",
       "      <td>2019</td>\n",
       "      <td>3390.00</td>\n",
       "      <td>NaN</td>\n",
       "      <td>3390.00</td>\n",
       "      <td>NaN</td>\n",
       "    </tr>\n",
       "  </tbody>\n",
       "</table>\n",
       "<p>32044 rows × 7 columns</p>\n",
       "</div>"
      ],
      "text/plain": [
       "      CD_ORGAO                                            DS_ITEM  \\\n",
       "0        82701  CONTRATAÇÃO DE EMPRESA DE LIMPEZA, HIGIENIZAÇÃ...   \n",
       "1        82701                        AQUISIÇÃO DE PROTOCOLADORA    \n",
       "2        82701                 CONTRATAÇÃO DE EMPRESA RADIOFÔNICA   \n",
       "3        82701  CONTRATAÇÃO DE EMPRESA DE LIMPEZA, HIGEINIZAÇÃ...   \n",
       "4        82701  CONTRATAÇÃO DE EMPRESA PARA LIMPEZA DA CAIXA D...   \n",
       "...        ...                                                ...   \n",
       "32039    84501  Carregador de Baterias com 8 baterias  - Multi...   \n",
       "32040    84501             Multifuncional Eco Tank L3 150 - Epson   \n",
       "32041    84501      Roteador Wireless Semi Profissional - TP LINK   \n",
       "32042    84501  Notebook Acer AMD A 10 2,4 Ghz, 4 GB RAM 1TB H...   \n",
       "32043    84501  Notebook Acer AMD A 12 2,7 Ghz, 8 GB RAM 1TB H...   \n",
       "\n",
       "      ANO_LICITACAO  VL_UNITARIO_ESTIMADO  VL_UNITARIO_HOMOLOGADO  \\\n",
       "0              2016              10909.04                 7999.97   \n",
       "1              2016               1792.00                 1792.00   \n",
       "2              2016               8293.33                 8290.00   \n",
       "3              2016              10715.29                     NaN   \n",
       "4              2016                200.00                     NaN   \n",
       "...             ...                   ...                     ...   \n",
       "32039          2019                119.00                     NaN   \n",
       "32040          2019               1250.00                     NaN   \n",
       "32041          2019                299.00                     NaN   \n",
       "32042          2019               2490.00                     NaN   \n",
       "32043          2019               3390.00                     NaN   \n",
       "\n",
       "       VL_TOTAL_ESTIMADO VL_TOTAL_HOMOLOGADO  \n",
       "0               10909.04             7999.97  \n",
       "1                1792.00             1792.00  \n",
       "2                8293.33             8290.00  \n",
       "3               10715.29                 NaN  \n",
       "4                 200.00                 NaN  \n",
       "...                  ...                 ...  \n",
       "32039             119.00                 NaN  \n",
       "32040            1250.00                 NaN  \n",
       "32041             299.00                 NaN  \n",
       "32042            4980.00                 NaN  \n",
       "32043            3390.00                 NaN  \n",
       "\n",
       "[32044 rows x 7 columns]"
      ]
     },
     "execution_count": 37,
     "metadata": {},
     "output_type": "execute_result"
    }
   ],
   "source": [
    "df_item_CM"
   ]
  },
  {
   "cell_type": "markdown",
   "id": "cd44d189",
   "metadata": {},
   "source": [
    "O dataframe **df_item_CM** contém todos os itens comprados pelas CMs entre 2016 e 2019. "
   ]
  },
  {
   "cell_type": "code",
   "execution_count": 38,
   "id": "e8d55bea",
   "metadata": {},
   "outputs": [
    {
     "data": {
      "text/plain": [
       "SERVIÇO                         60\n",
       "SERVIÇOS DE TELECOMUNICAÇÕES    31\n",
       "SERVIÇOS GRÁFICOS               26\n",
       "CARTUCHO                        22\n",
       "Gasolina aditivada              21\n",
       "Objetiva 70-200MM               20\n",
       "CANETA                          18\n",
       "ASSINATURA DE JORNAL            18\n",
       "CONECTOR                        15\n",
       "Objetiva 24-70MM                14\n",
       "Name: DS_ITEM, dtype: int64"
      ]
     },
     "execution_count": 38,
     "metadata": {},
     "output_type": "execute_result"
    }
   ],
   "source": [
    "df_item_CM['DS_ITEM'].value_counts().head(10)"
   ]
  },
  {
   "cell_type": "markdown",
   "id": "80bf0889",
   "metadata": {},
   "source": [
    "Parece difícil enxergar um padrão nos itens comprados pelas CMs. Olhando os dez itens mais licitados, existe uma recorrência muito grande de itens que começam com *SERVIÇO*. Um caminho seria começar agrupando todos os itens que foram considerados pelas CMs como alguma prestação de serviço ou algo similar. "
   ]
  },
  {
   "cell_type": "code",
   "execution_count": 39,
   "id": "55cf32b9",
   "metadata": {},
   "outputs": [
    {
     "data": {
      "text/plain": [
       "False    31753\n",
       "True       291\n",
       "Name: DS_ITEM, dtype: int64"
      ]
     },
     "execution_count": 39,
     "metadata": {},
     "output_type": "execute_result"
    }
   ],
   "source": [
    "df_item_CM['DS_ITEM'].str.match('SERVIÇO').value_counts()"
   ]
  },
  {
   "cell_type": "markdown",
   "id": "8571f062",
   "metadata": {},
   "source": [
    "A nossa tentativa não foi bem sucedida. Os itens que começam com serviço constituem apenas uma fração muito pequena do total. "
   ]
  },
  {
   "cell_type": "code",
   "execution_count": 40,
   "id": "bdfdd3eb",
   "metadata": {},
   "outputs": [
    {
     "name": "stdout",
     "output_type": "stream",
     "text": [
      "Os cálculo dos gatos com licitações feito pelas CM com base no items licitados é 6.81 vezes maior do que o valor calculado por meio do valor das licitações.\n"
     ]
    }
   ],
   "source": [
    "total_itens_CM = df_item_CM['VL_TOTAL_HOMOLOGADO'].dropna().astype('float').sum()\n",
    "\n",
    "razao_CM = total_itens_CM / gasto_CM\n",
    "\n",
    "print(f'Os cálculo dos gatos com licitações feito pelas CM com base no items licitados é {str(razao_CM)[:4]} vezes maior do que o valor calculado por meio do valor das licitações.')"
   ]
  },
  {
   "cell_type": "markdown",
   "id": "37e3f6d5",
   "metadata": {},
   "source": [
    "Essa diferença 6.81 vezes entre os dois cálculos de gastos das CMs é expressiva, ainda mais quando se tratam de orçamentos milionários (ou até mesmo bilionários). Claro que é difícil dizer a que se deve essa diferença. Em ambos os casos existem muitos valores nulos (NaN). Possivelmente esse valores ficariam mais próximos caso não existissem tantos NaN nos data frames. "
   ]
  }
 ],
 "metadata": {
  "kernelspec": {
   "display_name": "Python 3 (ipykernel)",
   "language": "python",
   "name": "python3"
  },
  "language_info": {
   "codemirror_mode": {
    "name": "ipython",
    "version": 3
   },
   "file_extension": ".py",
   "mimetype": "text/x-python",
   "name": "python",
   "nbconvert_exporter": "python",
   "pygments_lexer": "ipython3",
   "version": "3.9.7"
  }
 },
 "nbformat": 4,
 "nbformat_minor": 5
}
